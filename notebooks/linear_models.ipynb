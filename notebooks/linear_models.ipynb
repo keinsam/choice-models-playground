{
 "cells": [
  {
   "cell_type": "markdown",
   "id": "e82cd9fd",
   "metadata": {},
   "source": [
    "# Discrete Choice : Linear Models"
   ]
  },
  {
   "cell_type": "markdown",
   "id": "e456b9b2",
   "metadata": {},
   "source": [
    "## Definitions and Properties"
   ]
  },
  {
   "cell_type": "markdown",
   "id": "263da6f1",
   "metadata": {},
   "source": [
    "### **Random Utility Model (RUM):**\n",
    "\n",
    "Let $\\mathbf{U}_i = \\mathbf{v}_i + \\boldsymbol{\\varepsilon}_i$, where $\\boldsymbol{\\varepsilon}_i \\sim \\text{i.i.d. Gumbel}(0, 1)$.\n",
    "\n",
    "The agent $i$ chooses alternative $y_i$ such that:\n",
    "\n",
    "$$\n",
    "y_i = \\arg\\max_{j} \\ U_{ij}\n",
    "$$\n",
    "\n",
    "---\n",
    "\n",
    "### **Conditional Logit** (alternative-specific features):\n",
    "\n",
    "$$\n",
    "\\mathbf{v}_i = X \\boldsymbol{\\beta}, \\quad X \\in \\mathbb{R}^{J \\times K}, \\ \\boldsymbol{\\beta} \\in \\mathbb{R}^{K}\n",
    "$$\n",
    "\n",
    "where:\n",
    "- $X$ is the matrix of alternative features (same for all individuals),\n",
    "- $\\mathbf{v}_i \\in \\mathbb{R}^{J}$ is the deterministic utility vector for individual $i$,\n",
    "- $J$ is the number of alternatives, $K$ is the number of features per alternative.\n",
    "\n",
    "---\n",
    "\n",
    "### **Multinomial Logit** (individual-specific features):\n",
    "\n",
    "$$\n",
    "\\mathbf{v}_i = B \\mathbf{x}_i, \\quad B \\in \\mathbb{R}^{J \\times K}, \\ \\mathbf{x}_i \\in \\mathbb{R}^{K}\n",
    "$$\n",
    "\n",
    "where:\n",
    "- $B$ is the matrix of coefficients (one row per alternative),\n",
    "- $\\mathbf{x}_i$ is the feature vector of individual $i$ (same across alternatives),\n",
    "- $\\mathbf{v}_i \\in \\mathbb{R}^{J}$ is again the deterministic utility vector.\n",
    "\n",
    "---\n",
    "\n",
    "### **Conditional Choice Probability (CCP):**\n",
    "\n",
    "$$\n",
    "\\Pr(y_i = d \\mid \\mathbf{v}_i) = \\frac{\\exp(v_{id})}{\\sum_{j=1}^{J} \\exp(v_{ij})}\n",
    "$$\n"
   ]
  },
  {
   "cell_type": "markdown",
   "id": "70487511",
   "metadata": {},
   "source": [
    "## Conditional Logit"
   ]
  },
  {
   "cell_type": "code",
   "execution_count": null,
   "id": "d248fa9b",
   "metadata": {},
   "outputs": [],
   "source": [
    "def conditional_logit(X_alt: np.ndarray, beta: np.ndarray) -> np.ndarray:\n",
    "    pass"
   ]
  },
  {
   "cell_type": "code",
   "execution_count": null,
   "id": "7dde68cb",
   "metadata": {},
   "outputs": [],
   "source": []
  },
  {
   "cell_type": "markdown",
   "id": "c4e44ef8",
   "metadata": {},
   "source": [
    "## Multinomial Logit"
   ]
  },
  {
   "cell_type": "code",
   "execution_count": null,
   "id": "ee6d6727",
   "metadata": {},
   "outputs": [],
   "source": [
    "def multinomial_logit(X_ind: np.ndarray, beta: np.ndarray) -> np.ndarray:\n",
    "    pass\n",
    "    "
   ]
  },
  {
   "cell_type": "code",
   "execution_count": null,
   "id": "6bfc7334",
   "metadata": {},
   "outputs": [],
   "source": []
  }
 ],
 "metadata": {
  "kernelspec": {
   "display_name": "Python 3",
   "language": "python",
   "name": "python3"
  },
  "language_info": {
   "name": "python",
   "version": "3.11.11"
  }
 },
 "nbformat": 4,
 "nbformat_minor": 5
}
