{
 "cells": [
  {
   "cell_type": "markdown",
   "id": "e82cd9fd",
   "metadata": {},
   "source": [
    "# **Discrete Choice : Linear Models**"
   ]
  },
  {
   "cell_type": "markdown",
   "id": "e456b9b2",
   "metadata": {},
   "source": [
    "## **Random Utility Model**"
   ]
  },
  {
   "cell_type": "markdown",
   "id": "263da6f1",
   "metadata": {},
   "source": [
    "**Objective:**\n",
    "\n",
    "We aim to model the probability that an agent $i$ chooses alternative $d$ among $J$ options.\n",
    "This is done by specifying a utility model and computing the probability that alternative $d$ yields the highest utility for agent $i$.\n",
    "\n",
    "**Random Utility Model (RUM):**\n",
    "\n",
    "Let $\\mathbf{U}_i = \\mathbf{v}_i + \\boldsymbol{\\varepsilon}_i$, where $\\boldsymbol{\\varepsilon}_i \\sim \\text{i.i.d. Gumbel}(0, 1)$.\n",
    "\n",
    "The agent $i$ chooses alternative $y_i$ such that:\n",
    "\n",
    "$$\n",
    "y_i = \\arg\\max_{j} \\ U_{ij}\n",
    "$$\n",
    "<!-- ### **Random Utility Model (RUM)**\n",
    "\n",
    "For agent $i$, define the **utility vector**:\n",
    "\n",
    "$$\n",
    "\\mathbf{U}_i = \\mathbf{v}_i + \\boldsymbol{\\varepsilon}_i, \\quad \\mathbf{U}_i \\in \\mathbb{R}^J\n",
    "$$\n",
    "\n",
    "- $\\mathbf{v}_i \\in \\mathbb{R}^J$: deterministic utility vector for each of the $J$ alternatives,\n",
    "- $\\boldsymbol{\\varepsilon}_i \\in \\mathbb{R}^J$: random noise, i.i.d. $\\text{Gumbel}(0, 1)$,\n",
    "- $\\mathbf{U}_i \\in \\mathbb{R}^J$: total utility vector.\n",
    "\n",
    "Then, the agent chooses the alternative with the highest utility:\n",
    "\n",
    "$$\n",
    "y_i = \\arg\\max_{j \\in \\{1, \\dots, J\\}} U_{ij}\n",
    "$$ -->\n",
    "\n",
    "**Conditional Choice Probability (CCP):**\n",
    "\n",
    "$$\n",
    "\\Pr(y_i = d \\mid \\mathbf{v}_i) = \\frac{\\exp(v_{id})}{\\sum_{j=1}^{J} \\exp(v_{ij})}\n",
    "$$"
   ]
  },
  {
   "cell_type": "markdown",
   "id": "70487511",
   "metadata": {},
   "source": [
    "## **Conditional Logit**"
   ]
  },
  {
   "cell_type": "markdown",
   "id": "b4a60b86",
   "metadata": {},
   "source": [
    "**Definition:**\n",
    "\n",
    "Conditional logit is a RUM with\n",
    "\n",
    "$$\n",
    "\\mathbf{v}_i = X \\boldsymbol{\\beta}, \\quad X \\in \\mathbb{R}^{J \\times K}, \\ \\boldsymbol{\\beta} \\in \\mathbb{R}^{K}\n",
    "$$\n",
    "\n",
    "where:\n",
    "- $X \\in \\mathbb{R}^{J \\times K}$ is the matrix of alternative features (same for all individuals),\n",
    "- $\\boldsymbol{\\beta} \\in \\mathbb{R}^{K}$ is the common coefficient vector applied to all alternatives.\n",
    "- $\\mathbf{v}_i \\in \\mathbb{R}^{J}$ is the deterministic utility vector for individual $i$,\n",
    "- $J$ is the number of alternatives, $K$ is the number of features per alternative.\n"
   ]
  },
  {
   "cell_type": "code",
   "execution_count": null,
   "id": "d248fa9b",
   "metadata": {},
   "outputs": [],
   "source": [
    "def conditional_logit(X_alt: np.ndarray, beta: np.ndarray) -> np.ndarray:\n",
    "    pass"
   ]
  },
  {
   "cell_type": "code",
   "execution_count": null,
   "id": "7dde68cb",
   "metadata": {},
   "outputs": [],
   "source": []
  },
  {
   "cell_type": "markdown",
   "id": "c4e44ef8",
   "metadata": {},
   "source": [
    "## **Multinomial Logit**"
   ]
  },
  {
   "cell_type": "markdown",
   "id": "a3b4e6f2",
   "metadata": {},
   "source": [
    "**Definition:**\n",
    "\n",
    "Multinomial logit is a RUM with\n",
    "$$\n",
    "\\mathbf{v}_i = B \\mathbf{x}_i, \\quad B \\in \\mathbb{R}^{J \\times K}, \\ \\mathbf{x}_i \\in \\mathbb{R}^{K}\n",
    "$$\n",
    "\n",
    "where:\n",
    "- $\\mathbf{x}_i \\in \\mathbb{R}^{K}$ is the feature vector of individual $i$ (same across alternatives),\n",
    "- $B \\in \\mathbb{R}^{J \\times K}$ is the matrix of coefficients (one row per alternative),\n",
    "- $\\mathbf{v}_i \\in \\mathbb{R}^{J}$ is the deterministic utility vector for individual $i$.\n",
    "- $J$ is the number of alternatives, $K$ is the number of features per alternative.\n"
   ]
  },
  {
   "cell_type": "code",
   "execution_count": null,
   "id": "ee6d6727",
   "metadata": {},
   "outputs": [],
   "source": [
    "def multinomial_logit(X_ind: np.ndarray, beta: np.ndarray) -> np.ndarray:\n",
    "    pass\n",
    "    "
   ]
  },
  {
   "cell_type": "code",
   "execution_count": null,
   "id": "6bfc7334",
   "metadata": {},
   "outputs": [],
   "source": []
  }
 ],
 "metadata": {
  "kernelspec": {
   "display_name": "Python 3",
   "language": "python",
   "name": "python3"
  },
  "language_info": {
   "name": "python",
   "version": "3.11.11"
  }
 },
 "nbformat": 4,
 "nbformat_minor": 5
}
