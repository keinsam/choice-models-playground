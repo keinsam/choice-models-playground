{
 "cells": [
  {
   "cell_type": "markdown",
   "id": "e82cd9fd",
   "metadata": {},
   "source": [
    "# **Discrete Choice : Linear Models**"
   ]
  },
  {
   "cell_type": "code",
   "execution_count": 1,
   "id": "da8c101e",
   "metadata": {},
   "outputs": [
    {
     "name": "stderr",
     "output_type": "stream",
     "text": [
      "2025-05-24 03:19:11.112402: I tensorflow/core/platform/cpu_feature_guard.cc:210] This TensorFlow binary is optimized to use available CPU instructions in performance-critical operations.\n",
      "To enable the following instructions: AVX2 FMA, in other operations, rebuild TensorFlow with the appropriate compiler flags.\n"
     ]
    }
   ],
   "source": [
    "import numpy as np\n",
    "import pandas as pd\n",
    "from choice_learn.models import SimpleMNL, ConditionalLogit, NestedLogit\n",
    "from choice_learn.data import ChoiceDataset\n",
    "from choice_learn.datasets.base import load_heating"
   ]
  },
  {
   "cell_type": "code",
   "execution_count": 3,
   "id": "003b9063",
   "metadata": {},
   "outputs": [
    {
     "name": "stdout",
     "output_type": "stream",
     "text": [
      "TensorFlow: 2.16.1\n",
      "TFP: 0.24.0\n"
     ]
    }
   ],
   "source": [
    "import tensorflow as tf\n",
    "import tensorflow_probability as tfp\n",
    "\n",
    "print(f\"TensorFlow: {tf.__version__}\")\n",
    "print(f\"TFP: {tfp.__version__}\")"
   ]
  },
  {
   "cell_type": "markdown",
   "id": "e456b9b2",
   "metadata": {},
   "source": [
    "## **Random Utility Model (RUM)**"
   ]
  },
  {
   "cell_type": "markdown",
   "id": "263da6f1",
   "metadata": {},
   "source": [
    "**Objective:**\n",
    "\n",
    "We aim to model the probability that an agent $i$ chooses alternative $d$ among a discrete set of $J$ options.\n",
    "This is done by specifying a utility model and computing the probability that alternative $d$ yields the highest utility for agent $i$.\n",
    "\n",
    "**Definition (Random Utility Model or RUM):**\n",
    "\n",
    "For every agent $i$, we define the utility vector $$\\mathbf{U}_i = (U_{i1}, \\dots, U_{iJ}) = \\mathbf{v}_i + \\boldsymbol{\\varepsilon}_i,$$ where:\n",
    "\n",
    "- $\\mathbf{v}_i = (v_{i1}, \\dots, v_{iJ}) \\in \\mathbb{R}^J$ is the deterministic utility vector for each of the $J$ alternatives,\n",
    "- $\\boldsymbol{\\varepsilon}_i$ is a random noise vector in $\\mathbb{R}^J$ (distribution not specified at this stage),\n",
    "- $\\mathbf{U}_i \\in \\mathbb{R}^J$ is the total utility vector.\n",
    "\n",
    "Then, the agent chooses the alternative with the highest utility:\n",
    "\n",
    "$$\n",
    "y_i = \\arg\\max_{j \\in \\{1, \\dots, J\\}} U_{ij}\n",
    "$$\n",
    "\n",
    "**Property (Conditional Choice Probability or CCP):**\n",
    "\n",
    "Let $\\boldsymbol{\\varepsilon}_i \\sim \\text{Gumbel}(\\mathbf{0}_J, \\mathbf{1}_J)$ with i.i.d. components. Then,\n",
    "\n",
    "$$\n",
    "\\Pr(y_i = d \\mid \\mathbf{v}_i) = \\frac{\\exp(v_{id})}{\\sum_{j=1}^{J} \\exp(v_{ij})}\n",
    "$$\n",
    "\n",
    "**Property (Independance of Irrelevant Alternatives or IIA):**\n",
    "\n",
    "Let $\\boldsymbol{\\varepsilon}_i \\sim \\text{Gumbel}(\\mathbf{0}_J, \\mathbf{1}_J)$ with i.i.d. components. Then,\n",
    "\n",
    "$$\n",
    "\\frac{\\Pr(y_i = j \\mid \\mathbf{v}_i)}{\\Pr(y_i = k \\mid \\mathbf{v}_i)} = \\exp(v_{ij} - v_{ik})\n",
    "$$"
   ]
  },
  {
   "cell_type": "code",
   "execution_count": null,
   "id": "ff9be1f1",
   "metadata": {},
   "outputs": [],
   "source": []
  },
  {
   "cell_type": "markdown",
   "id": "70487511",
   "metadata": {},
   "source": [
    "## **Conditional Logit**"
   ]
  },
  {
   "cell_type": "markdown",
   "id": "b4a60b86",
   "metadata": {},
   "source": [
    "**Definition:**\n",
    "\n",
    "Conditional logit is a **RUM** with $\\mathbf{v}_i = X \\boldsymbol{\\beta}$, where:\n",
    "\n",
    "- $X \\in \\mathbb{R}^{J \\times K}$ is the matrix of alternative features (same for all individuals),\n",
    "- $\\boldsymbol{\\beta} \\in \\mathbb{R}^{K}$ is the common coefficient vector applied to all alternatives,\n",
    "- $\\mathbf{v}_i \\in \\mathbb{R}^{J}$ is the deterministic utility vector for individual $i$,\n",
    "- $\\boldsymbol{\\varepsilon}_i \\sim \\text{Gumbel}(\\mathbf{0}_J, \\mathbf{1}_J)$ is i.i.d. across alternatives,\n",
    "- $J$ is the number of alternatives, $K$ is the number of features per alternative.\n",
    "\n",
    "*Under the i.i.d. Gumbel noise assumption, the conditional logit model satisfies both the **CCP** and **IIA** properties.*\n"
   ]
  },
  {
   "cell_type": "code",
   "execution_count": null,
   "id": "d248fa9b",
   "metadata": {},
   "outputs": [],
   "source": []
  },
  {
   "cell_type": "markdown",
   "id": "c4e44ef8",
   "metadata": {},
   "source": [
    "## **Multinomial Logit**"
   ]
  },
  {
   "cell_type": "markdown",
   "id": "a3b4e6f2",
   "metadata": {},
   "source": [
    "**Definition:**\n",
    "\n",
    "Multinomial logit is a **RUM** with $\\mathbf{v}_i = B \\mathbf{x}_i$, where:\n",
    "\n",
    "- $\\mathbf{x}_i \\in \\mathbb{R}^{K}$ is the feature vector of individual $i$ (same across alternatives),\n",
    "- $B \\in \\mathbb{R}^{J \\times K}$ is the matrix of coefficients (one row per alternative),\n",
    "- $\\mathbf{v}_i \\in \\mathbb{R}^{J}$ is the deterministic utility vector for individual $i$,\n",
    "- $\\boldsymbol{\\varepsilon}_i \\sim \\text{Gumbel}(\\mathbf{0}_J, \\mathbf{1}_J)$ is i.i.d. across alternatives,\n",
    "- $J$ is the number of alternatives, $K$ is the number of features per alternative.\n",
    "\n",
    "*Under the i.i.d. Gumbel noise assumption, the multinomial logit model satisfies both the **CCP** and **IIA** properties.*\n"
   ]
  },
  {
   "cell_type": "code",
   "execution_count": 11,
   "id": "ee6d6727",
   "metadata": {},
   "outputs": [
    {
     "name": "stderr",
     "output_type": "stream",
     "text": [
      "WARNING:root:Items Features Names were not provided, will not be able to\n",
      "                                fit models needing them such as Conditional Logit.\n"
     ]
    },
    {
     "name": "stdout",
     "output_type": "stream",
     "text": [
      "Using L-BFGS optimizer, setting up .fit() function\n",
      "Using L-BFGS optimizer, setting up .fit() function\n",
      "Estimation Negative LogLikelihood: tf.Tensor(1095.2418, shape=(), dtype=float32)\n"
     ]
    }
   ],
   "source": [
    "heating_df = load_heating(as_frame=True)\n",
    "\n",
    "shared_features_by_choice = [\"income\", \"agehed\", \"rooms\"]\n",
    "choice = [\"depvar\"]\n",
    "items_features_by_choice = [\"ic.\", \"oc.\"]\n",
    "items = [\"hp\", \"gc\", \"gr\", \"ec\", \"er\"]\n",
    "\n",
    "choices = np.array([items.index(val) for val in heating_df[choice].to_numpy().ravel()])\n",
    "shared_features_by_choice = heating_df[shared_features_by_choice].to_numpy().astype(\"float32\")\n",
    "items_features_by_choice = np.stack([heating_df[[feat + item for feat in items_features_by_choice]].to_numpy() for item in items], axis=1)\n",
    "\n",
    "dataset = ChoiceDataset(items_features_by_choice=items_features_by_choice,\n",
    "                        choices=choices)\n",
    "model = SimpleMNL(intercept=None)\n",
    "history = model.fit(dataset, get_report=True, verbose=0)\n",
    "\n",
    "print(\"Estimation Negative LogLikelihood:\",\n",
    "      model.evaluate(dataset) * len(dataset))"
   ]
  },
  {
   "cell_type": "code",
   "execution_count": null,
   "id": "0c0ce249",
   "metadata": {},
   "outputs": [],
   "source": []
  },
  {
   "cell_type": "code",
   "execution_count": 5,
   "id": "ddf8c973",
   "metadata": {},
   "outputs": [
    {
     "data": {
      "text/html": [
       "<div>\n",
       "<style scoped>\n",
       "    .dataframe tbody tr th:only-of-type {\n",
       "        vertical-align: middle;\n",
       "    }\n",
       "\n",
       "    .dataframe tbody tr th {\n",
       "        vertical-align: top;\n",
       "    }\n",
       "\n",
       "    .dataframe thead th {\n",
       "        text-align: right;\n",
       "    }\n",
       "</style>\n",
       "<table border=\"1\" class=\"dataframe\">\n",
       "  <thead>\n",
       "    <tr style=\"text-align: right;\">\n",
       "      <th></th>\n",
       "      <th>Coefficient Name</th>\n",
       "      <th>Coefficient Estimation</th>\n",
       "      <th>Std. Err</th>\n",
       "      <th>z_value</th>\n",
       "      <th>P(.&gt;z)</th>\n",
       "    </tr>\n",
       "  </thead>\n",
       "  <tbody>\n",
       "    <tr>\n",
       "      <th>0</th>\n",
       "      <td>Weights_items_features_0</td>\n",
       "      <td>-0.006232</td>\n",
       "      <td>0.000353</td>\n",
       "      <td>-17.665276</td>\n",
       "      <td>0.0</td>\n",
       "    </tr>\n",
       "    <tr>\n",
       "      <th>1</th>\n",
       "      <td>Weights_items_features_1</td>\n",
       "      <td>-0.004580</td>\n",
       "      <td>0.000322</td>\n",
       "      <td>-14.216596</td>\n",
       "      <td>0.0</td>\n",
       "    </tr>\n",
       "  </tbody>\n",
       "</table>\n",
       "</div>"
      ],
      "text/plain": [
       "           Coefficient Name  Coefficient Estimation  Std. Err    z_value  \\\n",
       "0  Weights_items_features_0               -0.006232  0.000353 -17.665276   \n",
       "1  Weights_items_features_1               -0.004580  0.000322 -14.216596   \n",
       "\n",
       "   P(.>z)  \n",
       "0     0.0  \n",
       "1     0.0  "
      ]
     },
     "execution_count": 5,
     "metadata": {},
     "output_type": "execute_result"
    }
   ],
   "source": [
    "model.report"
   ]
  },
  {
   "cell_type": "markdown",
   "id": "73fbae11",
   "metadata": {},
   "source": [
    "## **Nested Logit**"
   ]
  },
  {
   "cell_type": "code",
   "execution_count": null,
   "id": "cd41d289",
   "metadata": {},
   "outputs": [],
   "source": []
  },
  {
   "cell_type": "code",
   "execution_count": null,
   "id": "3e129079",
   "metadata": {},
   "outputs": [],
   "source": []
  }
 ],
 "metadata": {
  "kernelspec": {
   "display_name": "venv",
   "language": "python",
   "name": "python3"
  },
  "language_info": {
   "codemirror_mode": {
    "name": "ipython",
    "version": 3
   },
   "file_extension": ".py",
   "mimetype": "text/x-python",
   "name": "python",
   "nbconvert_exporter": "python",
   "pygments_lexer": "ipython3",
   "version": "3.10.12"
  }
 },
 "nbformat": 4,
 "nbformat_minor": 5
}
