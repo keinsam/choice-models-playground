{
 "cells": [
  {
   "cell_type": "markdown",
   "id": "e82cd9fd",
   "metadata": {},
   "source": [
    "# Discrete Choice : Linear Models"
   ]
  },
  {
   "cell_type": "markdown",
   "id": "e456b9b2",
   "metadata": {},
   "source": [
    "## Definitions and Properties"
   ]
  },
  {
   "cell_type": "markdown",
   "id": "9d045e7c",
   "metadata": {},
   "source": [
    "**Random Utility Model (RUM):**\n",
    "\n",
    "Let $u_{ij} = v_{ij} + \\varepsilon_{ij}$, where $\\varepsilon_{ij} \\sim \\text{i.i.d. Gumbel}(0, 1)$.\n",
    "\n",
    "The agent $i$ chooses alternative $y_{i}$ such that $y_{i} = \\argmax_{j} u_{ij}$.\n",
    "\n",
    "In **conditional logit**, $v_{ij} = x_{j}^\\top \\beta$, where $x_{j}$ are characteristics of the alternatives (same for all individuals).\n",
    "\n",
    "In **multinomial logit**, $v_{ij} = x_{i}^\\top \\beta_{j}$ where $x_{i}$ are characteristics of the individuals (same across alternatives).\n",
    "\n",
    "\n",
    "**Conditional Choice Probability (CCP):**\n",
    "\n",
    "$$\n",
    "\\Pr(d \\mid v_{ij}) = \\frac{\\exp(v_{id})}{\\sum_{j} \\exp(v_{ij})}\n",
    "$$\n",
    "\n"
   ]
  },
  {
   "cell_type": "markdown",
   "id": "70487511",
   "metadata": {},
   "source": [
    "## Conditional Logit"
   ]
  },
  {
   "cell_type": "code",
   "execution_count": null,
   "id": "d248fa9b",
   "metadata": {},
   "outputs": [],
   "source": []
  },
  {
   "cell_type": "code",
   "execution_count": null,
   "id": "e459a89b",
   "metadata": {},
   "outputs": [],
   "source": []
  },
  {
   "cell_type": "markdown",
   "id": "c4e44ef8",
   "metadata": {},
   "source": [
    "## Multinomial Logit"
   ]
  },
  {
   "cell_type": "code",
   "execution_count": null,
   "id": "ee6d6727",
   "metadata": {},
   "outputs": [],
   "source": []
  },
  {
   "cell_type": "code",
   "execution_count": null,
   "id": "6438aa6b",
   "metadata": {},
   "outputs": [],
   "source": []
  },
  {
   "cell_type": "code",
   "execution_count": null,
   "id": "9918cc94",
   "metadata": {},
   "outputs": [],
   "source": []
  },
  {
   "cell_type": "code",
   "execution_count": null,
   "id": "964c8882",
   "metadata": {},
   "outputs": [],
   "source": []
  },
  {
   "cell_type": "code",
   "execution_count": null,
   "id": "bb5dd2e5",
   "metadata": {},
   "outputs": [],
   "source": []
  },
  {
   "cell_type": "code",
   "execution_count": null,
   "id": "6bfc7334",
   "metadata": {},
   "outputs": [],
   "source": []
  }
 ],
 "metadata": {
  "kernelspec": {
   "display_name": "Python 3",
   "language": "python",
   "name": "python3"
  },
  "language_info": {
   "name": "python",
   "version": "3.11.11"
  }
 },
 "nbformat": 4,
 "nbformat_minor": 5
}
