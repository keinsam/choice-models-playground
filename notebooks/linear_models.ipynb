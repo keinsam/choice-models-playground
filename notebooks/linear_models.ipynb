{
 "cells": [
  {
   "cell_type": "markdown",
   "id": "e82cd9fd",
   "metadata": {},
   "source": [
    "# **Choice-Learn: Linear Models Playground**"
   ]
  },
  {
   "cell_type": "code",
   "execution_count": 1,
   "id": "da8c101e",
   "metadata": {},
   "outputs": [
    {
     "name": "stderr",
     "output_type": "stream",
     "text": [
      "2025-05-24 05:34:30.934797: I tensorflow/core/platform/cpu_feature_guard.cc:210] This TensorFlow binary is optimized to use available CPU instructions in performance-critical operations.\n",
      "To enable the following instructions: AVX2 FMA, in other operations, rebuild TensorFlow with the appropriate compiler flags.\n"
     ]
    }
   ],
   "source": [
    "import numpy as np\n",
    "import pandas as pd\n",
    "from choice_learn.models import SimpleMNL, ConditionalLogit, NestedLogit\n",
    "from choice_learn.data import ChoiceDataset\n",
    "from choice_learn.datasets.base import load_heating, load_swissmetro"
   ]
  },
  {
   "cell_type": "markdown",
   "id": "70487511",
   "metadata": {},
   "source": [
    "## **Conditional Logit**"
   ]
  },
  {
   "cell_type": "code",
   "execution_count": 2,
   "id": "d248fa9b",
   "metadata": {},
   "outputs": [
    {
     "name": "stdout",
     "output_type": "stream",
     "text": [
      "Using L-BFGS optimizer, setting up .fit() function\n",
      "Using L-BFGS optimizer, setting up .fit() function\n"
     ]
    },
    {
     "data": {
      "text/plain": [
       "<tf.Tensor: shape=(), dtype=float32, numpy=5159.3047>"
      ]
     },
     "execution_count": 2,
     "metadata": {},
     "output_type": "execute_result"
    }
   ],
   "source": [
    "swiss_dataset = load_swissmetro(preprocessing=\"tutorial\")\n",
    "\n",
    "# Initialization of the model\n",
    "swiss_model = ConditionalLogit(optimizer=\"lbfgs\")\n",
    "\n",
    "# Intercept for train & sm\n",
    "swiss_model.add_coefficients(feature_name=\"intercept\", items_indexes=[0, 1])\n",
    "# beta_he for train & sm\n",
    "swiss_model.add_coefficients(feature_name=\"headway\",\n",
    "                             items_indexes=[0, 1],\n",
    "                             coefficient_name=\"beta_he\")\n",
    "# beta_co for all items\n",
    "swiss_model.add_coefficients(feature_name=\"cost\",\n",
    "                             items_indexes=[0, 1, 2])\n",
    "# beta first_class for train\n",
    "swiss_model.add_coefficients(feature_name=\"regular_class\",\n",
    "                             items_indexes=[0])\n",
    "# beta seats for train\n",
    "swiss_model.add_coefficients(feature_name=\"seats\", items_indexes=[1])\n",
    "# betas luggage for car\n",
    "swiss_model.add_coefficients(feature_name=\"single_luggage_piece\",\n",
    "                             items_indexes=[2],\n",
    "                             coefficient_name=\"beta_luggage=1\")\n",
    "swiss_model.add_coefficients(feature_name=\"multiple_luggage_piece\",\n",
    "                             items_indexes=[2],\n",
    "                             coefficient_name=\"beta_luggage>1\")\n",
    "# beta TT only for car\n",
    "swiss_model.add_coefficients(feature_name=\"travel_time\",\n",
    "                             items_indexes=[2],\n",
    "                             coefficient_name=\"beta_tt_car\")\n",
    "\n",
    "# betas TT and HE shared by train and sm\n",
    "swiss_model.add_shared_coefficient(feature_name=\"travel_time\",\n",
    "                                   items_indexes=[0, 1])\n",
    "swiss_model.add_shared_coefficient(feature_name=\"train_survey\",\n",
    "                                   items_indexes=[0, 1],\n",
    "                                   coefficient_name=\"beta_survey\")\n",
    "\n",
    "# Estimation of the model\n",
    "history = swiss_model.fit(swiss_dataset, get_report=True)\n",
    "\n",
    "len(swiss_dataset) * swiss_model.evaluate(swiss_dataset)"
   ]
  },
  {
   "cell_type": "code",
   "execution_count": 4,
   "id": "0c6d8972",
   "metadata": {},
   "outputs": [
    {
     "data": {
      "text/html": [
       "<div>\n",
       "<style scoped>\n",
       "    .dataframe tbody tr th:only-of-type {\n",
       "        vertical-align: middle;\n",
       "    }\n",
       "\n",
       "    .dataframe tbody tr th {\n",
       "        vertical-align: top;\n",
       "    }\n",
       "\n",
       "    .dataframe thead th {\n",
       "        text-align: right;\n",
       "    }\n",
       "</style>\n",
       "<table border=\"1\" class=\"dataframe\">\n",
       "  <thead>\n",
       "    <tr style=\"text-align: right;\">\n",
       "      <th></th>\n",
       "      <th>Coefficient Name</th>\n",
       "      <th>Coefficient Estimation</th>\n",
       "      <th>Std. Err</th>\n",
       "      <th>z_value</th>\n",
       "      <th>P(.&gt;z)</th>\n",
       "    </tr>\n",
       "  </thead>\n",
       "  <tbody>\n",
       "    <tr>\n",
       "      <th>0</th>\n",
       "      <td>beta_intercept_0</td>\n",
       "      <td>-1.292930</td>\n",
       "      <td>0.145000</td>\n",
       "      <td>-8.916751</td>\n",
       "      <td>0.000000e+00</td>\n",
       "    </tr>\n",
       "    <tr>\n",
       "      <th>1</th>\n",
       "      <td>beta_intercept_1</td>\n",
       "      <td>-0.502574</td>\n",
       "      <td>0.109712</td>\n",
       "      <td>-4.580841</td>\n",
       "      <td>4.631108e-06</td>\n",
       "    </tr>\n",
       "    <tr>\n",
       "      <th>2</th>\n",
       "      <td>beta_he_0</td>\n",
       "      <td>-0.314336</td>\n",
       "      <td>0.064734</td>\n",
       "      <td>-4.855809</td>\n",
       "      <td>1.198961e-06</td>\n",
       "    </tr>\n",
       "    <tr>\n",
       "      <th>3</th>\n",
       "      <td>beta_he_1</td>\n",
       "      <td>-0.377318</td>\n",
       "      <td>0.191370</td>\n",
       "      <td>-1.971670</td>\n",
       "      <td>4.864729e-02</td>\n",
       "    </tr>\n",
       "    <tr>\n",
       "      <th>4</th>\n",
       "      <td>beta_cost_0</td>\n",
       "      <td>-0.561762</td>\n",
       "      <td>0.094500</td>\n",
       "      <td>-5.944566</td>\n",
       "      <td>2.771898e-09</td>\n",
       "    </tr>\n",
       "    <tr>\n",
       "      <th>5</th>\n",
       "      <td>beta_cost_1</td>\n",
       "      <td>-0.281676</td>\n",
       "      <td>0.042252</td>\n",
       "      <td>-6.666521</td>\n",
       "      <td>2.619394e-11</td>\n",
       "    </tr>\n",
       "    <tr>\n",
       "      <th>6</th>\n",
       "      <td>beta_cost_2</td>\n",
       "      <td>-0.513847</td>\n",
       "      <td>0.101592</td>\n",
       "      <td>-5.057929</td>\n",
       "      <td>4.238341e-07</td>\n",
       "    </tr>\n",
       "    <tr>\n",
       "      <th>7</th>\n",
       "      <td>beta_regular_class</td>\n",
       "      <td>0.565017</td>\n",
       "      <td>0.079958</td>\n",
       "      <td>7.066464</td>\n",
       "      <td>1.589395e-12</td>\n",
       "    </tr>\n",
       "    <tr>\n",
       "      <th>8</th>\n",
       "      <td>beta_seats</td>\n",
       "      <td>-0.782448</td>\n",
       "      <td>0.085864</td>\n",
       "      <td>-9.112634</td>\n",
       "      <td>0.000000e+00</td>\n",
       "    </tr>\n",
       "    <tr>\n",
       "      <th>9</th>\n",
       "      <td>beta_luggage=1</td>\n",
       "      <td>0.422760</td>\n",
       "      <td>0.063327</td>\n",
       "      <td>6.675848</td>\n",
       "      <td>2.458078e-11</td>\n",
       "    </tr>\n",
       "    <tr>\n",
       "      <th>10</th>\n",
       "      <td>beta_luggage&gt;1</td>\n",
       "      <td>1.413981</td>\n",
       "      <td>0.190378</td>\n",
       "      <td>7.427232</td>\n",
       "      <td>1.110223e-13</td>\n",
       "    </tr>\n",
       "    <tr>\n",
       "      <th>11</th>\n",
       "      <td>beta_tt_car</td>\n",
       "      <td>-0.722983</td>\n",
       "      <td>0.044959</td>\n",
       "      <td>-16.080957</td>\n",
       "      <td>0.000000e+00</td>\n",
       "    </tr>\n",
       "    <tr>\n",
       "      <th>12</th>\n",
       "      <td>beta_travel_time</td>\n",
       "      <td>-0.699013</td>\n",
       "      <td>0.038635</td>\n",
       "      <td>-18.092772</td>\n",
       "      <td>0.000000e+00</td>\n",
       "    </tr>\n",
       "    <tr>\n",
       "      <th>13</th>\n",
       "      <td>beta_survey</td>\n",
       "      <td>2.542476</td>\n",
       "      <td>0.098162</td>\n",
       "      <td>25.900934</td>\n",
       "      <td>0.000000e+00</td>\n",
       "    </tr>\n",
       "  </tbody>\n",
       "</table>\n",
       "</div>"
      ],
      "text/plain": [
       "      Coefficient Name  Coefficient Estimation  Std. Err    z_value  \\\n",
       "0     beta_intercept_0               -1.292930  0.145000  -8.916751   \n",
       "1     beta_intercept_1               -0.502574  0.109712  -4.580841   \n",
       "2            beta_he_0               -0.314336  0.064734  -4.855809   \n",
       "3            beta_he_1               -0.377318  0.191370  -1.971670   \n",
       "4          beta_cost_0               -0.561762  0.094500  -5.944566   \n",
       "5          beta_cost_1               -0.281676  0.042252  -6.666521   \n",
       "6          beta_cost_2               -0.513847  0.101592  -5.057929   \n",
       "7   beta_regular_class                0.565017  0.079958   7.066464   \n",
       "8           beta_seats               -0.782448  0.085864  -9.112634   \n",
       "9       beta_luggage=1                0.422760  0.063327   6.675848   \n",
       "10      beta_luggage>1                1.413981  0.190378   7.427232   \n",
       "11         beta_tt_car               -0.722983  0.044959 -16.080957   \n",
       "12    beta_travel_time               -0.699013  0.038635 -18.092772   \n",
       "13         beta_survey                2.542476  0.098162  25.900934   \n",
       "\n",
       "          P(.>z)  \n",
       "0   0.000000e+00  \n",
       "1   4.631108e-06  \n",
       "2   1.198961e-06  \n",
       "3   4.864729e-02  \n",
       "4   2.771898e-09  \n",
       "5   2.619394e-11  \n",
       "6   4.238341e-07  \n",
       "7   1.589395e-12  \n",
       "8   0.000000e+00  \n",
       "9   2.458078e-11  \n",
       "10  1.110223e-13  \n",
       "11  0.000000e+00  \n",
       "12  0.000000e+00  \n",
       "13  0.000000e+00  "
      ]
     },
     "execution_count": 4,
     "metadata": {},
     "output_type": "execute_result"
    }
   ],
   "source": [
    "swiss_model.report"
   ]
  },
  {
   "cell_type": "markdown",
   "id": "c4e44ef8",
   "metadata": {},
   "source": [
    "## **Multinomial Logit**"
   ]
  },
  {
   "cell_type": "code",
   "execution_count": 11,
   "id": "ee6d6727",
   "metadata": {},
   "outputs": [
    {
     "name": "stderr",
     "output_type": "stream",
     "text": [
      "WARNING:root:Items Features Names were not provided, will not be able to\n",
      "                                fit models needing them such as Conditional Logit.\n"
     ]
    },
    {
     "name": "stdout",
     "output_type": "stream",
     "text": [
      "Using L-BFGS optimizer, setting up .fit() function\n",
      "Using L-BFGS optimizer, setting up .fit() function\n",
      "Estimation Negative LogLikelihood: tf.Tensor(1095.2418, shape=(), dtype=float32)\n"
     ]
    }
   ],
   "source": [
    "heating_df = load_heating(as_frame=True)\n",
    "\n",
    "shared_features_by_choice = [\"income\", \"agehed\", \"rooms\"]\n",
    "choice = [\"depvar\"]\n",
    "items_features_by_choice = [\"ic.\", \"oc.\"]\n",
    "items = [\"hp\", \"gc\", \"gr\", \"ec\", \"er\"]\n",
    "\n",
    "choices = np.array([items.index(val) for val in heating_df[choice].to_numpy().ravel()])\n",
    "shared_features_by_choice = heating_df[shared_features_by_choice].to_numpy().astype(\"float32\")\n",
    "items_features_by_choice = np.stack([heating_df[[feat + item for feat in items_features_by_choice]].to_numpy() for item in items], axis=1)\n",
    "\n",
    "dataset = ChoiceDataset(items_features_by_choice=items_features_by_choice,\n",
    "                        choices=choices)\n",
    "model = SimpleMNL(intercept=None)\n",
    "history = model.fit(dataset, get_report=True, verbose=0)\n",
    "\n",
    "print(\"Estimation Negative LogLikelihood:\",\n",
    "      model.evaluate(dataset) * len(dataset))"
   ]
  },
  {
   "cell_type": "code",
   "execution_count": 5,
   "id": "ddf8c973",
   "metadata": {},
   "outputs": [
    {
     "data": {
      "text/html": [
       "<div>\n",
       "<style scoped>\n",
       "    .dataframe tbody tr th:only-of-type {\n",
       "        vertical-align: middle;\n",
       "    }\n",
       "\n",
       "    .dataframe tbody tr th {\n",
       "        vertical-align: top;\n",
       "    }\n",
       "\n",
       "    .dataframe thead th {\n",
       "        text-align: right;\n",
       "    }\n",
       "</style>\n",
       "<table border=\"1\" class=\"dataframe\">\n",
       "  <thead>\n",
       "    <tr style=\"text-align: right;\">\n",
       "      <th></th>\n",
       "      <th>Coefficient Name</th>\n",
       "      <th>Coefficient Estimation</th>\n",
       "      <th>Std. Err</th>\n",
       "      <th>z_value</th>\n",
       "      <th>P(.&gt;z)</th>\n",
       "    </tr>\n",
       "  </thead>\n",
       "  <tbody>\n",
       "    <tr>\n",
       "      <th>0</th>\n",
       "      <td>Weights_items_features_0</td>\n",
       "      <td>-0.006232</td>\n",
       "      <td>0.000353</td>\n",
       "      <td>-17.665276</td>\n",
       "      <td>0.0</td>\n",
       "    </tr>\n",
       "    <tr>\n",
       "      <th>1</th>\n",
       "      <td>Weights_items_features_1</td>\n",
       "      <td>-0.004580</td>\n",
       "      <td>0.000322</td>\n",
       "      <td>-14.216596</td>\n",
       "      <td>0.0</td>\n",
       "    </tr>\n",
       "  </tbody>\n",
       "</table>\n",
       "</div>"
      ],
      "text/plain": [
       "           Coefficient Name  Coefficient Estimation  Std. Err    z_value  \\\n",
       "0  Weights_items_features_0               -0.006232  0.000353 -17.665276   \n",
       "1  Weights_items_features_1               -0.004580  0.000322 -14.216596   \n",
       "\n",
       "   P(.>z)  \n",
       "0     0.0  \n",
       "1     0.0  "
      ]
     },
     "execution_count": 5,
     "metadata": {},
     "output_type": "execute_result"
    }
   ],
   "source": [
    "model.report"
   ]
  },
  {
   "cell_type": "markdown",
   "id": "687f7bc4",
   "metadata": {},
   "source": [
    "## **Nested Logit**"
   ]
  },
  {
   "cell_type": "code",
   "execution_count": null,
   "id": "0fe6f2c2",
   "metadata": {},
   "outputs": [],
   "source": []
  },
  {
   "cell_type": "code",
   "execution_count": null,
   "id": "532c30b8",
   "metadata": {},
   "outputs": [],
   "source": []
  }
 ],
 "metadata": {
  "kernelspec": {
   "display_name": "venv",
   "language": "python",
   "name": "python3"
  },
  "language_info": {
   "codemirror_mode": {
    "name": "ipython",
    "version": 3
   },
   "file_extension": ".py",
   "mimetype": "text/x-python",
   "name": "python",
   "nbconvert_exporter": "python",
   "pygments_lexer": "ipython3",
   "version": "3.10.12"
  }
 },
 "nbformat": 4,
 "nbformat_minor": 5
}
