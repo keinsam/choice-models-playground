{
 "cells": [
  {
   "cell_type": "markdown",
   "id": "e82cd9fd",
   "metadata": {},
   "source": [
    "# **Discrete Choice : Linear Models**"
   ]
  },
  {
   "cell_type": "code",
   "execution_count": null,
   "id": "da8c101e",
   "metadata": {},
   "outputs": [],
   "source": [
    "import numpy as np"
   ]
  },
  {
   "cell_type": "markdown",
   "id": "e456b9b2",
   "metadata": {},
   "source": [
    "## **Random Utility Model (RUM)**"
   ]
  },
  {
   "cell_type": "markdown",
   "id": "263da6f1",
   "metadata": {},
   "source": [
    "**Objective:**\n",
    "\n",
    "We aim to model the probability that an agent $i$ chooses alternative $d$ among a discrete set of $J$ options.\n",
    "This is done by specifying a utility model and computing the probability that alternative $d$ yields the highest utility for agent $i$.\n",
    "\n",
    "**Definition (Random Utility Model or RUM):**\n",
    "\n",
    "For every agent $i$, we define the utility vector $$\\mathbf{U}_i = (U_{i1}, \\dots, U_{iJ}) = \\mathbf{v}_i + \\boldsymbol{\\varepsilon}_i,$$ where:\n",
    "\n",
    "- $\\mathbf{v}_i = (v_{i1}, \\dots, v_{iJ}) \\in \\mathbb{R}^J$ is the deterministic utility vector for each of the $J$ alternatives,\n",
    "- $\\boldsymbol{\\varepsilon}_i$ is a random noise vector in $\\mathbb{R}^J$ (distribution not specified at this stage),\n",
    "- $\\mathbf{U}_i \\in \\mathbb{R}^J$ is the total utility vector.\n",
    "\n",
    "Then, the agent chooses the alternative with the highest utility:\n",
    "\n",
    "$$\n",
    "y_i = \\arg\\max_{j \\in \\{1, \\dots, J\\}} U_{ij}\n",
    "$$\n",
    "\n",
    "**Property (Conditional Choice Probability or CCP):**\n",
    "\n",
    "Let $\\boldsymbol{\\varepsilon}_i \\sim \\text{Gumbel}(\\mathbf{0}_J, \\mathbf{1}_J)$ with i.i.d. components. Then,\n",
    "\n",
    "$$\n",
    "\\Pr(y_i = d \\mid \\mathbf{v}_i) = \\frac{\\exp(v_{id})}{\\sum_{j=1}^{J} \\exp(v_{ij})}\n",
    "$$\n",
    "\n",
    "**Property (Independance of Irrelevant Alternatives or IIA):**\n",
    "\n",
    "Let $\\boldsymbol{\\varepsilon}_i \\sim \\text{Gumbel}(\\mathbf{0}_J, \\mathbf{1}_J)$ with i.i.d. components. Then,\n",
    "\n",
    "$$\n",
    "\\frac{\\Pr(y_i = j \\mid \\mathbf{v}_i)}{\\Pr(y_i = k \\mid \\mathbf{v}_i)} = \\exp(v_{ij} - v_{ik})\n",
    "$$"
   ]
  },
  {
   "cell_type": "code",
   "execution_count": null,
   "id": "ff9be1f1",
   "metadata": {},
   "outputs": [],
   "source": []
  },
  {
   "cell_type": "markdown",
   "id": "70487511",
   "metadata": {},
   "source": [
    "## **Conditional Logit**"
   ]
  },
  {
   "cell_type": "markdown",
   "id": "b4a60b86",
   "metadata": {},
   "source": [
    "**Definition:**\n",
    "\n",
    "Conditional logit is a **RUM** with $\\mathbf{v}_i = X \\boldsymbol{\\beta}$, where:\n",
    "\n",
    "- $X \\in \\mathbb{R}^{J \\times K}$ is the matrix of alternative features (same for all individuals),\n",
    "- $\\boldsymbol{\\beta} \\in \\mathbb{R}^{K}$ is the common coefficient vector applied to all alternatives,\n",
    "- $\\mathbf{v}_i \\in \\mathbb{R}^{J}$ is the deterministic utility vector for individual $i$,\n",
    "- $\\boldsymbol{\\varepsilon}_i \\sim \\text{Gumbel}(\\mathbf{0}_J, \\mathbf{1}_J)$ is i.i.d. across alternatives,\n",
    "- $J$ is the number of alternatives, $K$ is the number of features per alternative.\n",
    "\n",
    "*Under the i.i.d. Gumbel noise assumption, the conditional logit model satisfies both the **CCP** and **IIA** properties.*\n"
   ]
  },
  {
   "cell_type": "code",
   "execution_count": null,
   "id": "d248fa9b",
   "metadata": {},
   "outputs": [],
   "source": [
    "def conditional_logit(X_alt: np.ndarray, beta: np.ndarray) -> np.ndarray:\n",
    "    pass"
   ]
  },
  {
   "cell_type": "code",
   "execution_count": null,
   "id": "7dde68cb",
   "metadata": {},
   "outputs": [],
   "source": []
  },
  {
   "cell_type": "markdown",
   "id": "c4e44ef8",
   "metadata": {},
   "source": [
    "## **Multinomial Logit**"
   ]
  },
  {
   "cell_type": "markdown",
   "id": "a3b4e6f2",
   "metadata": {},
   "source": [
    "**Definition:**\n",
    "\n",
    "Multinomial logit is a **RUM** with $\\mathbf{v}_i = B \\mathbf{x}_i$, where:\n",
    "\n",
    "- $\\mathbf{x}_i \\in \\mathbb{R}^{K}$ is the feature vector of individual $i$ (same across alternatives),\n",
    "- $B \\in \\mathbb{R}^{J \\times K}$ is the matrix of coefficients (one row per alternative),\n",
    "- $\\mathbf{v}_i \\in \\mathbb{R}^{J}$ is the deterministic utility vector for individual $i$,\n",
    "- $\\boldsymbol{\\varepsilon}_i \\sim \\text{Gumbel}(\\mathbf{0}_J, \\mathbf{1}_J)$ is i.i.d. across alternatives,\n",
    "- $J$ is the number of alternatives, $K$ is the number of features per alternative.\n",
    "\n",
    "*Under the i.i.d. Gumbel noise assumption, the multinomial logit model satisfies both the **CCP** and **IIA** properties.*\n"
   ]
  },
  {
   "cell_type": "code",
   "execution_count": null,
   "id": "ee6d6727",
   "metadata": {},
   "outputs": [],
   "source": [
    "def multinomial_logit(X_ind: np.ndarray, beta: np.ndarray) -> np.ndarray:\n",
    "    pass"
   ]
  },
  {
   "cell_type": "code",
   "execution_count": null,
   "id": "6bfc7334",
   "metadata": {},
   "outputs": [],
   "source": []
  },
  {
   "cell_type": "markdown",
   "id": "73fbae11",
   "metadata": {},
   "source": [
    "## **Nested Logit**"
   ]
  },
  {
   "cell_type": "code",
   "execution_count": null,
   "id": "cd41d289",
   "metadata": {},
   "outputs": [],
   "source": []
  },
  {
   "cell_type": "code",
   "execution_count": null,
   "id": "3e129079",
   "metadata": {},
   "outputs": [],
   "source": []
  }
 ],
 "metadata": {
  "kernelspec": {
   "display_name": "Python 3",
   "language": "python",
   "name": "python3"
  },
  "language_info": {
   "codemirror_mode": {
    "name": "ipython",
    "version": 3
   },
   "file_extension": ".py",
   "mimetype": "text/x-python",
   "name": "python",
   "nbconvert_exporter": "python",
   "pygments_lexer": "ipython3",
   "version": "3.11.11"
  }
 },
 "nbformat": 4,
 "nbformat_minor": 5
}
